{
 "cells": [
  {
   "cell_type": "code",
   "execution_count": 1,
   "metadata": {},
   "outputs": [
    {
     "name": "stderr",
     "output_type": "stream",
     "text": [
      "C:\\Users\\omar\\Anaconda31\\lib\\site-packages\\h5py\\__init__.py:36: FutureWarning: Conversion of the second argument of issubdtype from `float` to `np.floating` is deprecated. In future, it will be treated as `np.float64 == np.dtype(float).type`.\n",
      "  from ._conv import register_converters as _register_converters\n",
      "Using TensorFlow backend.\n"
     ]
    }
   ],
   "source": [
    "from keras.datasets import reuters"
   ]
  },
  {
   "cell_type": "code",
   "execution_count": 2,
   "metadata": {},
   "outputs": [],
   "source": [
    "(train_data,train_labels),(test_data,test_labels)=reuters.load_data(num_words=10000)"
   ]
  },
  {
   "cell_type": "code",
   "execution_count": 42,
   "metadata": {
    "collapsed": true
   },
   "outputs": [],
   "source": [
    "word_index = reuters.get_word_index()\n",
    "reverse_word_index = dict([(value, key) for (key, value) in word_index.items()])\n",
    "decoded_newswire = ' '.join([reverse_word_index.get(i - 3, '?') for i in\n",
    "train_data[0]])"
   ]
  },
  {
   "cell_type": "code",
   "execution_count": 47,
   "metadata": {
    "collapsed": true
   },
   "outputs": [],
   "source": [
    "import numpy as np\n",
    "def vectorization(sequences,dimension=10000):\n",
    "    results = np.zeros((len(sequences),dimension))\n",
    "    for i,sequence in enumerate(sequences):\n",
    "        results[i,sequence] = 1\n",
    "    return results\n",
    "x_train = vectorization(train_data)\n",
    "x_test = vectorization(test_data)"
   ]
  },
  {
   "cell_type": "code",
   "execution_count": 56,
   "metadata": {
    "collapsed": true
   },
   "outputs": [],
   "source": [
    "from keras.utils.np_utils import to_categorical\n",
    "one_hot_line_train_labels = to_categorical(train_labels)\n",
    "one_hot_line_test_labels = to_categorical(test_labels)"
   ]
  },
  {
   "cell_type": "code",
   "execution_count": 85,
   "metadata": {
    "collapsed": true
   },
   "outputs": [],
   "source": [
    "from keras import models\n",
    "from keras import layers\n",
    "model = models.Sequential()\n",
    "model.add(layers.Dense(64,activation='relu',input_shape=(10000,)))\n",
    "model.add(layers.Dense(128,activation='relu'))\n",
    "model.add(layers.Dense(128,activation='relu'))\n",
    "model.add(layers.Dense(46,activation='softmax'))\n",
    "model.compile(optimizer='rmsprop',\n",
    "                 loss = 'categorical_crossentropy',\n",
    "                 metrics = ['accuracy'])"
   ]
  },
  {
   "cell_type": "code",
   "execution_count": 86,
   "metadata": {
    "collapsed": true
   },
   "outputs": [],
   "source": [
    "x_val = x_train[:1000]\n",
    "partialXtrain = x_train[1000:]\n",
    "y_val = one_hot_line_train_labels[:1000]\n",
    "partialYtrain = one_hot_line_train_labels[1000:]\n"
   ]
  },
  {
   "cell_type": "code",
   "execution_count": 87,
   "metadata": {},
   "outputs": [
    {
     "name": "stdout",
     "output_type": "stream",
     "text": [
      "Train on 7982 samples, validate on 1000 samples\n",
      "Epoch 1/20\n",
      "7982/7982 [==============================] - 3s 356us/step - loss: 2.7897 - acc: 0.3043 - val_loss: 1.9877 - val_acc: 0.4770\n",
      "Epoch 2/20\n",
      "7982/7982 [==============================] - 2s 256us/step - loss: 1.7617 - acc: 0.5162 - val_loss: 1.6024 - val_acc: 0.5690\n",
      "Epoch 3/20\n",
      "7982/7982 [==============================] - 2s 256us/step - loss: 1.4802 - acc: 0.5978 - val_loss: 1.4855 - val_acc: 0.6110\n",
      "Epoch 4/20\n",
      "7982/7982 [==============================] - 2s 257us/step - loss: 1.3222 - acc: 0.6328 - val_loss: 1.4572 - val_acc: 0.6250\n",
      "Epoch 5/20\n",
      "7982/7982 [==============================] - 2s 237us/step - loss: 1.1454 - acc: 0.6913 - val_loss: 1.4169 - val_acc: 0.6480\n",
      "Epoch 6/20\n",
      "7982/7982 [==============================] - 2s 237us/step - loss: 1.0370 - acc: 0.7254 - val_loss: 1.2933 - val_acc: 0.6920\n",
      "Epoch 7/20\n",
      "7982/7982 [==============================] - 2s 235us/step - loss: 0.9128 - acc: 0.7493 - val_loss: 1.3279 - val_acc: 0.6700\n",
      "Epoch 8/20\n",
      "7982/7982 [==============================] - 2s 234us/step - loss: 0.7696 - acc: 0.7834 - val_loss: 1.3533 - val_acc: 0.6840\n",
      "Epoch 9/20\n",
      "7982/7982 [==============================] - 2s 258us/step - loss: 0.7281 - acc: 0.7934 - val_loss: 1.5314 - val_acc: 0.6630\n",
      "Epoch 10/20\n",
      "7982/7982 [==============================] - 2s 264us/step - loss: 0.6972 - acc: 0.7977 - val_loss: 1.2455 - val_acc: 0.7410\n",
      "Epoch 11/20\n",
      "7982/7982 [==============================] - 2s 258us/step - loss: 0.5532 - acc: 0.8379 - val_loss: 1.4220 - val_acc: 0.7300\n",
      "Epoch 12/20\n",
      "7982/7982 [==============================] - 2s 255us/step - loss: 0.5638 - acc: 0.8343 - val_loss: 1.2745 - val_acc: 0.7570\n",
      "Epoch 13/20\n",
      "7982/7982 [==============================] - 2s 244us/step - loss: 0.4818 - acc: 0.8554 - val_loss: 1.4047 - val_acc: 0.7510\n",
      "Epoch 14/20\n",
      "7982/7982 [==============================] - 2s 237us/step - loss: 0.4050 - acc: 0.8787 - val_loss: 1.3608 - val_acc: 0.7540\n",
      "Epoch 15/20\n",
      "7982/7982 [==============================] - 2s 236us/step - loss: 0.5060 - acc: 0.8718 - val_loss: 1.3314 - val_acc: 0.7630\n",
      "Epoch 16/20\n",
      "7982/7982 [==============================] - 2s 235us/step - loss: 0.3074 - acc: 0.9084 - val_loss: 1.6167 - val_acc: 0.7390\n",
      "Epoch 17/20\n",
      "7982/7982 [==============================] - 2s 280us/step - loss: 0.3552 - acc: 0.8984 - val_loss: 1.6218 - val_acc: 0.7470\n",
      "Epoch 18/20\n",
      "7982/7982 [==============================] - 2s 259us/step - loss: 0.3934 - acc: 0.8879 - val_loss: 1.5162 - val_acc: 0.7660\n",
      "Epoch 19/20\n",
      "7982/7982 [==============================] - 2s 265us/step - loss: 0.3266 - acc: 0.9065 - val_loss: 1.4242 - val_acc: 0.7680\n",
      "Epoch 20/20\n",
      "7982/7982 [==============================] - 2s 262us/step - loss: 0.3318 - acc: 0.9119 - val_loss: 1.5823 - val_acc: 0.7330\n"
     ]
    }
   ],
   "source": [
    "history = model.fit(partialXtrain,partialYtrain,epochs = 20,batch_size=512,validation_data=(x_val,y_val))"
   ]
  },
  {
   "cell_type": "code",
   "execution_count": 83,
   "metadata": {},
   "outputs": [
    {
     "data": {
      "image/png": "[encoded data removed]",
      "text/plain": [
       "<matplotlib.figure.Figure at 0x205ca240518>"
      ]
     },
     "metadata": {},
     "output_type": "display_data"
    }
   ],
   "source": [
    "history_dict = history.history\n",
    "loss = history_dict['loss']\n",
    "val_loss = history_dict['val_loss']\n",
    "epochs = range(1,len(history_dict['acc'])+1)\n",
    "import matplotlib.pyplot as plt\n",
    "plt.plot(epochs,loss,'bo',label='Training loss')\n",
    "plt.plot(epochs,val_loss,'b',label='Validation loss')\n",
    "plt.xlabel('epochs')\n",
    "plt.ylabel('loss')\n",
    "plt.legend()\n",
    "plt.show()"
   ]
  },
  {
   "cell_type": "code",
   "execution_count": 84,
   "metadata": {},
   "outputs": [
    {
     "data": {
      "image/png": "[encoded data removed]",
      "text/plain": [
       "<matplotlib.figure.Figure at 0x205ca239940>"
      ]
     },
     "metadata": {},
     "output_type": "display_data"
    }
   ],
   "source": [
    "accuracy = history_dict['acc']\n",
    "val_accuracy = history_dict['val_acc']\n",
    "plt.plot(epochs,accuracy,'bo',label = 'Training accuracy')\n",
    "plt.plot(epochs,val_accuracy,'b',label='Validation accuracy')\n",
    "plt.xlabel('epochs')\n",
    "plt.ylabel('Accuracy')\n",
    "plt.legend()\n",
    "plt.show()"
   ]
  },
  {
   "cell_type": "code",
   "execution_count": 73,
   "metadata": {},
   "outputs": [
    {
     "name": "stdout",
     "output_type": "stream",
     "text": [
      "Train on 7982 samples, validate on 1000 samples\n",
      "Epoch 1/9\n",
      "7982/7982 [==============================] - 2s 261us/step - loss: 3.3689 - acc: 0.4693 - val_loss: 2.8663 - val_acc: 0.3960\n",
      "Epoch 2/9\n",
      "7982/7982 [==============================] - 2s 210us/step - loss: 2.4286 - acc: 0.3607 - val_loss: 2.0405 - val_acc: 0.3540\n",
      "Epoch 3/9\n",
      "7982/7982 [==============================] - 2s 201us/step - loss: 1.6899 - acc: 0.3515 - val_loss: 1.6270 - val_acc: 0.3550\n",
      "Epoch 4/9\n",
      "7982/7982 [==============================] - 2s 201us/step - loss: 1.2927 - acc: 0.4832 - val_loss: 1.1863 - val_acc: 0.7220\n",
      "Epoch 5/9\n",
      "7982/7982 [==============================] - 2s 218us/step - loss: 0.8196 - acc: 0.8292 - val_loss: 1.0262 - val_acc: 0.7900\n",
      "Epoch 6/9\n",
      "7982/7982 [==============================] - 2s 231us/step - loss: 0.6305 - acc: 0.8756 - val_loss: 0.9623 - val_acc: 0.8030\n",
      "Epoch 7/9\n",
      "7982/7982 [==============================] - 2s 212us/step - loss: 0.5033 - acc: 0.9013 - val_loss: 0.9128 - val_acc: 0.8060\n",
      "Epoch 8/9\n",
      "7982/7982 [==============================] - 2s 212us/step - loss: 0.4223 - acc: 0.9134 - val_loss: 0.9202 - val_acc: 0.8020\n",
      "Epoch 9/9\n",
      "7982/7982 [==============================] - 2s 235us/step - loss: 0.3535 - acc: 0.9253 - val_loss: 0.8751 - val_acc: 0.8130\n",
      "2246/2246 [==============================] - 1s 274us/step\n",
      "[0.95315586766916416, 0.78272484419394683]\n"
     ]
    }
   ],
   "source": [
    "# Building the model from scratch and test the accuracy with the testing data\n",
    "model = models.Sequential()\n",
    "model.add(layers.Dense(64,activation='relu',input_shape=(10000,)))\n",
    "model.add(layers.Dense(64,activation='relu'))\n",
    "model.add(layers.Dense(46,activation='sigmoid'))\n",
    "model.compile(optimizer = 'rmsprop',\n",
    "                  loss = 'categorical_crossentropy'\n",
    "                  ,metrics = ['accuracy']\n",
    "             )\n",
    "model.fit(partialXtrain,partialYtrain,epochs=9,batch_size=512,validation_data=(x_val,y_val))\n",
    "results = model.evaluate(x_test,one_hot_line_test_labels)\n",
    "print(results)\n"
   ]
  },
  {
   "cell_type": "raw",
   "metadata": {},
   "source": []
  }
 ],
 "metadata": {
  "kernelspec": {
   "display_name": "Python 3",
   "language": "python",
   "name": "python3"
  },
  "language_info": {
   "codemirror_mode": {
    "name": "ipython",
    "version": 3
   },
   "file_extension": ".py",
   "mimetype": "text/x-python",
   "name": "python",
   "nbconvert_exporter": "python",
   "pygments_lexer": "ipython3",
   "version": "3.6.4"
  }
 },
 "nbformat": 4,
 "nbformat_minor": 2
}
